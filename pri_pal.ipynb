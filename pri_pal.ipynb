{
 "cells": [
  {
   "cell_type": "code",
   "execution_count": 1,
   "metadata": {},
   "outputs": [],
   "source": [
    "\n",
    "number_of_exams = int(input(\"Enter number of exams:\"))\n",
    "total_credits = int(input(\"Enter how many credits these exams cover:\"))\n",
    "average=0\n",
    "for exam in range(number_of_exams):\n",
    "    score = int(input(\"Enter exam score:\"))\n",
    "    exam_credits = int(input(\"Enter how many credits this exam covered:\"))\n",
    "    average = average + score*exam_credits/total_credits\n",
    "    print(\"Your average is\", average)"
   ]
  },
  {
   "cell_type": "code",
   "execution_count": null,
   "metadata": {},
   "outputs": [],
   "source": []
  }
 ],
 "metadata": {
  "kernelspec": {
   "display_name": "Python 3",
   "language": "python",
   "name": "python3"
  },
  "language_info": {
   "codemirror_mode": {
    "name": "ipython",
    "version": 3
   },
   "file_extension": ".py",
   "mimetype": "text/x-python",
   "name": "python",
   "nbconvert_exporter": "python",
   "pygments_lexer": "ipython3",
   "version": "3.12.1"
  }
 },
 "nbformat": 4,
 "nbformat_minor": 2
}
